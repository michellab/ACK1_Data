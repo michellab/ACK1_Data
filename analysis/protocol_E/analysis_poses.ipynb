{
 "cells": [
  {
   "cell_type": "code",
   "execution_count": 1,
   "metadata": {},
   "outputs": [
    {
     "name": "stdout",
     "output_type": "stream",
     "text": [
      "Populating the interactive namespace from numpy and matplotlib\n"
     ]
    },
    {
     "data": {
      "text/plain": [
       "u'0.3.4'"
      ]
     },
     "execution_count": 1,
     "metadata": {},
     "output_type": "execute_result"
    }
   ],
   "source": [
    "%pylab inline\n",
    "from networkanalysis.networkanalysis import *\n",
    "from networkanalysis.experiments import *\n",
    "import networkanalysis\n",
    "networkanalysis.__version__"
   ]
  },
  {
   "cell_type": "code",
   "execution_count": 2,
   "metadata": {
    "collapsed": true
   },
   "outputs": [],
   "source": [
    "import seaborn as sbn"
   ]
  },
  {
   "cell_type": "code",
   "execution_count": 3,
   "metadata": {
    "collapsed": true
   },
   "outputs": [],
   "source": [
    "pG = PerturbationGraph()"
   ]
  },
  {
   "cell_type": "code",
   "execution_count": 4,
   "metadata": {
    "collapsed": true
   },
   "outputs": [],
   "source": [
    "pG.populate_pert_graph('summary_mbar.csv')"
   ]
  },
  {
   "cell_type": "code",
   "execution_count": 5,
   "metadata": {
    "collapsed": true
   },
   "outputs": [],
   "source": [
    "graph = pG.graph"
   ]
  },
  {
   "cell_type": "code",
   "execution_count": 6,
   "metadata": {},
   "outputs": [
    {
     "name": "stdout",
     "output_type": "stream",
     "text": [
      "['2' '3' '4' '5' '6' '7']\n"
     ]
    }
   ],
   "source": [
    "print (np.sort(graph.nodes()))"
   ]
  },
  {
   "cell_type": "code",
   "execution_count": 7,
   "metadata": {
    "collapsed": true
   },
   "outputs": [],
   "source": [
    "pG.compute_weighted_avg_paths('3')"
   ]
  },
  {
   "cell_type": "code",
   "execution_count": 8,
   "metadata": {
    "collapsed": true
   },
   "outputs": [],
   "source": [
    "ordered_keys = ['2', '3','4', '5', '6', '7']"
   ]
  },
  {
   "cell_type": "code",
   "execution_count": 9,
   "metadata": {
    "collapsed": true
   },
   "outputs": [],
   "source": [
    "pG.format_free_energies(merge_BM=True,intermed_ID='INT', compound_order=ordered_keys)"
   ]
  },
  {
   "cell_type": "code",
   "execution_count": 10,
   "metadata": {
    "collapsed": true
   },
   "outputs": [],
   "source": [
    "stage2_DDG = pG.freeEnergyInKcal"
   ]
  },
  {
   "cell_type": "code",
   "execution_count": 11,
   "metadata": {},
   "outputs": [
    {
     "data": {
      "text/plain": [
       "[{'2': -1.5041290847796989, 'error': 0.54728089407468949},\n",
       " {'3': -0.0, 'error': 0.0},\n",
       " {'4': 1.093268484508612, 'error': 0.51879994560377352},\n",
       " {'5': -0.96778726227837941, 'error': 0.45393982166868491},\n",
       " {'6': -1.0507994707430395, 'error': 0.30836789973093764},\n",
       " {'7': -0.2003875924685285, 'error': 0.59627037818181827}]"
      ]
     },
     "execution_count": 11,
     "metadata": {},
     "output_type": "execute_result"
    }
   ],
   "source": [
    "stage2_DDG"
   ]
  },
  {
   "cell_type": "code",
   "execution_count": 12,
   "metadata": {
    "collapsed": true
   },
   "outputs": [],
   "source": [
    "experiments = ExperimentalData()"
   ]
  },
  {
   "cell_type": "code",
   "execution_count": 13,
   "metadata": {
    "collapsed": true
   },
   "outputs": [],
   "source": [
    "experiments.compute_DDG_from_IC50s('IC_50s.csv','3')"
   ]
  },
  {
   "cell_type": "code",
   "execution_count": 14,
   "metadata": {
    "collapsed": true
   },
   "outputs": [],
   "source": [
    "exp_list = experiments.freeEnergiesInKcal"
   ]
  },
  {
   "cell_type": "code",
   "execution_count": 15,
   "metadata": {},
   "outputs": [
    {
     "name": "stdout",
     "output_type": "stream",
     "text": [
      "[{'2': -4.1181358836569837, 'error': 0.41322747573364904}, {'3': 0.0, 'error': 0.41322747573364904}, {'4': -0.18761834473785186, 'error': 0.41322747573364904}, {'5': -1.0222963400933496, 'error': 0.41322747573364904}, {'error': 0.41322747573364904, '6': -2.9580596957266847}, {'7': -4.4226703158368341, 'error': 0.41322747573364904}]\n"
     ]
    }
   ],
   "source": [
    "print exp_list"
   ]
  },
  {
   "cell_type": "code",
   "execution_count": 16,
   "metadata": {
    "collapsed": true
   },
   "outputs": [],
   "source": [
    "pG.write_free_energies(stage2_DDG,'DDG.csv')\n",
    "pG.write_free_energies(exp_list,'DDG_exp.csv')"
   ]
  },
  {
   "cell_type": "markdown",
   "metadata": {},
   "source": [
    "## Statistics"
   ]
  },
  {
   "cell_type": "code",
   "execution_count": 17,
   "metadata": {
    "collapsed": true
   },
   "outputs": [],
   "source": [
    "from networkanalysis.stats import *"
   ]
  },
  {
   "cell_type": "code",
   "execution_count": 18,
   "metadata": {
    "collapsed": true
   },
   "outputs": [],
   "source": [
    "stats = freeEnergyStats()\n",
    "stats.generate_statistics(stage2_DDG, exp_list, repeats=10000)"
   ]
  },
  {
   "cell_type": "code",
   "execution_count": 19,
   "metadata": {
    "scrolled": true
   },
   "outputs": [
    {
     "name": "stdout",
     "output_type": "stream",
     "text": [
      "Experimental versus calculated statistics\n",
      "R : 0.47 < 0.54 < 0.64\n",
      "MUE: 1.65 < 1.73 < 1.81\n",
      "R^2: 0.22 < 0.33 < 0.41\n"
     ]
    }
   ],
   "source": [
    "print \"Experimental versus calculated statistics\"\n",
    "print \"R : %.2f < %.2f < %.2f\" %(stats.R_error[0],stats.R,stats.R_error[1])\n",
    "print \"MUE: %.2f < %.2f < %.2f\" %(stats.mue_error[0],stats.mue,stats.mue_error[1])\n",
    "print \"R^2: %.2f < %.2f < %.2f\" %(stats.R2_error[0],stats.R2,stats.R2_error[1])"
   ]
  },
  {
   "cell_type": "code",
   "execution_count": 20,
   "metadata": {
    "collapsed": true
   },
   "outputs": [],
   "source": [
    "stats = freeEnergyStats()\n",
    "stats.generate_statistics(stage2_DDG, stage2_DDG, repeats=10000)"
   ]
  },
  {
   "cell_type": "code",
   "execution_count": 21,
   "metadata": {
    "scrolled": true
   },
   "outputs": [
    {
     "name": "stdout",
     "output_type": "stream",
     "text": [
      "Calculated versus calculated statistics\n",
      "R : 0.90 < 0.92 < 0.96\n",
      "MUE: 0.26 < 0.32 < 0.37\n",
      "R^2: 0.82 < 0.84 < 0.92\n"
     ]
    }
   ],
   "source": [
    "print \"Calculated versus calculated statistics\"\n",
    "print \"R : %.2f < %.2f < %.2f\" %(stats.R_error[0],stats.R,stats.R_error[1])\n",
    "print \"MUE: %.2f < %.2f < %.2f\" %(stats.mue_error[0],stats.mue,stats.mue_error[1])\n",
    "print \"R^2: %.2f < %.2f < %.2f\" %(stats.R2_error[0],stats.R2,stats.R2_error[1])"
   ]
  },
  {
   "cell_type": "code",
   "execution_count": 22,
   "metadata": {
    "collapsed": true
   },
   "outputs": [],
   "source": [
    "stats = freeEnergyStats()\n",
    "stats.generate_statistics(exp_list, exp_list, repeats=10000)"
   ]
  },
  {
   "cell_type": "code",
   "execution_count": 23,
   "metadata": {
    "scrolled": true
   },
   "outputs": [
    {
     "name": "stdout",
     "output_type": "stream",
     "text": [
      "Experimental versus experimental statistics\n",
      "R : 0.98 < 0.98 < 0.99\n",
      "MUE: 0.28 < 0.33 < 0.37\n",
      "R^2: 0.96 < 0.97 < 0.98\n"
     ]
    }
   ],
   "source": [
    "print \"Experimental versus experimental statistics\"\n",
    "print \"R : %.2f < %.2f < %.2f\" %(stats.R_error[0],stats.R,stats.R_error[1])\n",
    "print \"MUE: %.2f < %.2f < %.2f\" %(stats.mue_error[0],stats.mue,stats.mue_error[1])\n",
    "print \"R^2: %.2f < %.2f < %.2f\" %(stats.R2_error[0],stats.R2,stats.R2_error[1])"
   ]
  },
  {
   "cell_type": "markdown",
   "metadata": {},
   "source": [
    "## Plotting"
   ]
  },
  {
   "cell_type": "code",
   "execution_count": 24,
   "metadata": {
    "collapsed": true
   },
   "outputs": [],
   "source": [
    "stats = freeEnergyStats()\n",
    "stats.generate_statistics(stage2_DDG, exp_list, repeats=10000)"
   ]
  },
  {
   "cell_type": "code",
   "execution_count": 25,
   "metadata": {
    "collapsed": true
   },
   "outputs": [],
   "source": [
    "from networkanalysis.plotting import *"
   ]
  },
  {
   "cell_type": "code",
   "execution_count": 26,
   "metadata": {
    "collapsed": true
   },
   "outputs": [],
   "source": [
    "plot = FreeEnergyPlotter(exp_list,stage2_DDG,compound_list=ordered_keys)"
   ]
  },
  {
   "cell_type": "code",
   "execution_count": 27,
   "metadata": {},
   "outputs": [
    {
     "data": {
      "image/png": "[encoded data removed]",
      "text/plain": [
       "<matplotlib.figure.Figure at 0x1180c2610>"
      ]
     },
     "metadata": {},
     "output_type": "display_data"
    }
   ],
   "source": [
    "plot.plot_scatter_plot()"
   ]
  },
  {
   "cell_type": "code",
   "execution_count": 28,
   "metadata": {},
   "outputs": [
    {
     "data": {
      "text/plain": [
       "(<matplotlib.axes._subplots.AxesSubplot at 0x11b7f6110>,\n",
       " <matplotlib.figure.Figure at 0x1180c2950>)"
      ]
     },
     "execution_count": 28,
     "metadata": {},
     "output_type": "execute_result"
    },
    {
     "data": {
      "image/png": "[encoded data removed]",
      "text/plain": [
       "<matplotlib.figure.Figure at 0x1180c2950>"
      ]
     },
     "metadata": {},
     "output_type": "display_data"
    }
   ],
   "source": [
    "plot.plot_bar_plot()"
   ]
  },
  {
   "cell_type": "code",
   "execution_count": 29,
   "metadata": {},
   "outputs": [
    {
     "data": {
      "text/plain": [
       "LinregressResult(slope=0.27805090169429619, intercept=0.15064216232621713, rvalue=0.58524463422551165, pvalue=0.22235949360557206, stderr=0.19261984280935979)"
      ]
     },
     "execution_count": 29,
     "metadata": {},
     "output_type": "execute_result"
    }
   ],
   "source": [
    "scipy.stats.linregress(stats.data_exp,np.array(stats.data_comp)[:,0])"
   ]
  },
  {
   "cell_type": "markdown",
   "metadata": {},
   "source": [
    "## Perturbation of experimental and computed results"
   ]
  },
  {
   "cell_type": "code",
   "execution_count": 30,
   "metadata": {
    "collapsed": true
   },
   "outputs": [],
   "source": [
    "def generate_perturbation(exp_ddg):\n",
    "    new_exp_dic = []\n",
    "    for dic in exp_ddg:\n",
    "        keys = dic.keys()\n",
    "        if keys[0]=='error':\n",
    "            err = dic[keys[0]]\n",
    "            val = dic[keys[1]]\n",
    "            compound = keys[1]\n",
    "        else:\n",
    "            err = dic[keys[1]]\n",
    "            val = dic[keys[0]]\n",
    "            compound = keys[0]\n",
    "        if err !=0.0:\n",
    "            new_val = np.random.normal(val, err)\n",
    "        else:\n",
    "            new_val = val\n",
    "        new_exp_dic.append({'error':err, compound : new_val})\n",
    "    return new_exp_dic"
   ]
  },
  {
   "cell_type": "code",
   "execution_count": 31,
   "metadata": {
    "collapsed": true
   },
   "outputs": [],
   "source": [
    "def bootstrap_compounds(c_list, exp_data, sim_data):\n",
    "    R = []\n",
    "    mue = []\n",
    "    rmsd = []\n",
    "    for x in range(1000):\n",
    "        indeces = np.random.randint(len(c_list), size=len(c_list))\n",
    "        new_exp_list = []\n",
    "        new_comp_list  = []\n",
    "        for i in indeces:\n",
    "            new_exp_list.append(exp_data[i])\n",
    "            new_comp_list.append(sim_data[i])\n",
    "\n",
    "        #exp_data = generate_new_exp_data(exp_data)\n",
    "        new_exp_list = convert_to_array(new_exp_list)\n",
    "        new_comp_list = convert_to_array(new_comp_list)\n",
    "        R.append(scipy.stats.pearsonr(new_exp_list[:,0],new_comp_list[:,0])[0])\n",
    "        rmsd.append(compute_rmsd(new_comp_list[:,0],new_exp_list[:,0]))\n",
    "        #mue.append(calculate_mue(new_exp_list,new_comp_list[:,0]))\n",
    "    return R, mue, rmsd"
   ]
  },
  {
   "cell_type": "code",
   "execution_count": 32,
   "metadata": {
    "collapsed": true
   },
   "outputs": [],
   "source": [
    "def convert_to_array(dic_list):\n",
    "    new_list = []\n",
    "    for item in dic_list:\n",
    "        keys = item.keys()\n",
    "        if keys[0] == 'error':\n",
    "            new_list.append(np.array([item[keys[1]], item[keys[0]]]))\n",
    "        else:\n",
    "            new_list.append(np.array([item[keys[0]], item[keys[1]]]))\n",
    "    return np.array(new_list)"
   ]
  },
  {
   "cell_type": "code",
   "execution_count": 33,
   "metadata": {
    "collapsed": true
   },
   "outputs": [],
   "source": [
    "def compute_rmsd(estimate, value):\n",
    "    deviation = sqrt(np.sum((estimate - value)**2)/len(perturb_exp_ddg))\n",
    "    return deviation"
   ]
  },
  {
   "cell_type": "code",
   "execution_count": 34,
   "metadata": {},
   "outputs": [
    {
     "name": "stderr",
     "output_type": "stream",
     "text": [
      "/Users/admin/anaconda2/lib/python2.7/site-packages/numpy/core/_methods.py:135: RuntimeWarning: Degrees of freedom <= 0 for slice\n",
      "  keepdims=keepdims)\n",
      "/Users/admin/anaconda2/lib/python2.7/site-packages/numpy/core/_methods.py:105: RuntimeWarning: invalid value encountered in true_divide\n",
      "  arrmean, rcount, out=arrmean, casting='unsafe', subok=False)\n",
      "/Users/admin/anaconda2/lib/python2.7/site-packages/numpy/core/_methods.py:127: RuntimeWarning: invalid value encountered in double_scalars\n",
      "  ret = ret.dtype.type(ret / rcount)\n",
      "/Users/admin/anaconda2/lib/python2.7/site-packages/numpy/core/fromnumeric.py:2889: RuntimeWarning: Mean of empty slice.\n",
      "  out=out, **kwargs)\n",
      "/Users/admin/anaconda2/lib/python2.7/site-packages/numpy/core/_methods.py:80: RuntimeWarning: invalid value encountered in double_scalars\n",
      "  ret = ret.dtype.type(ret / rcount)\n",
      "/Users/admin/anaconda2/lib/python2.7/site-packages/scipy/stats/stats.py:3021: RuntimeWarning: invalid value encountered in double_scalars\n",
      "  r = r_num / r_den\n"
     ]
    }
   ],
   "source": [
    "mean_R = []\n",
    "std_R = []\n",
    "mean_mue = []\n",
    "std_mue = []\n",
    "mean_rmsd = []\n",
    "std_rmsd = []\n",
    "for i in xrange(1000):\n",
    "    perturb_exp_ddg = generate_perturbation(exp_list)\n",
    "    R, mue, rmsd = bootstrap_compounds(ordered_keys, exp_list, perturb_exp_ddg)\n",
    "    mean_R.append(mean(R))\n",
    "    std_R.append(std(R))\n",
    "    std_mue.append(std(mue))\n",
    "    mean_mue.append(mean(mue))\n",
    "    std_rmsd.append(std(rmsd))\n",
    "    mean_rmsd.append(mean(rmsd))"
   ]
  },
  {
   "cell_type": "code",
   "execution_count": 35,
   "metadata": {},
   "outputs": [
    {
     "name": "stdout",
     "output_type": "stream",
     "text": [
      "R is: nan ± nan \n",
      "rmsd is: 0.385285 ± 0.039628 \n"
     ]
    }
   ],
   "source": [
    "print \"R is: %f ± %f \" %( np.mean(mean_R), np.std(std_R))\n",
    "print \"rmsd is: %f ± %f \" %( np.mean(mean_rmsd), np.std(std_rmsd))"
   ]
  },
  {
   "cell_type": "code",
   "execution_count": null,
   "metadata": {
    "collapsed": true
   },
   "outputs": [],
   "source": []
  }
 ],
 "metadata": {
  "anaconda-cloud": {},
  "kernelspec": {
   "display_name": "Python 2",
   "language": "python",
   "name": "python2"
  },
  "language_info": {
   "codemirror_mode": {
    "name": "ipython",
    "version": 2
   },
   "file_extension": ".py",
   "mimetype": "text/x-python",
   "name": "python",
   "nbconvert_exporter": "python",
   "pygments_lexer": "ipython2",
   "version": "2.7.13"
  }
 },
 "nbformat": 4,
 "nbformat_minor": 1
}
