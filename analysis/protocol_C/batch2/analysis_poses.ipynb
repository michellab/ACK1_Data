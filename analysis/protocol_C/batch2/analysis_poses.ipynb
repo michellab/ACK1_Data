{
 "cells": [
  {
   "cell_type": "code",
   "execution_count": 37,
   "metadata": {},
   "outputs": [
    {
     "name": "stdout",
     "output_type": "stream",
     "text": [
      "Populating the interactive namespace from numpy and matplotlib\n"
     ]
    },
    {
     "name": "stderr",
     "output_type": "stream",
     "text": [
      "/Users/admin/anaconda2/lib/python2.7/site-packages/IPython/core/magics/pylab.py:161: UserWarning: pylab import has clobbered these variables: ['plt', 'plot', 'copy']\n",
      "`%matplotlib` prevents importing * from pylab and numpy\n",
      "  \"\\n`%matplotlib` prevents importing * from pylab and numpy\"\n"
     ]
    },
    {
     "data": {
      "text/plain": [
       "u'0.3.4'"
      ]
     },
     "execution_count": 37,
     "metadata": {},
     "output_type": "execute_result"
    }
   ],
   "source": [
    "%pylab inline\n",
    "from networkanalysis.networkanalysis import *\n",
    "from networkanalysis.experiments import *\n",
    "import networkanalysis\n",
    "networkanalysis.__version__"
   ]
  },
  {
   "cell_type": "code",
   "execution_count": 38,
   "metadata": {
    "collapsed": true
   },
   "outputs": [],
   "source": [
    "import seaborn as sbn"
   ]
  },
  {
   "cell_type": "code",
   "execution_count": 39,
   "metadata": {
    "collapsed": true
   },
   "outputs": [],
   "source": [
    "pG = PerturbationGraph()"
   ]
  },
  {
   "cell_type": "code",
   "execution_count": 40,
   "metadata": {
    "collapsed": true
   },
   "outputs": [],
   "source": [
    "pG.populate_pert_graph('summary_mbar.csv')"
   ]
  },
  {
   "cell_type": "code",
   "execution_count": 41,
   "metadata": {
    "collapsed": true
   },
   "outputs": [],
   "source": [
    "graph = pG.graph"
   ]
  },
  {
   "cell_type": "code",
   "execution_count": 42,
   "metadata": {},
   "outputs": [
    {
     "name": "stdout",
     "output_type": "stream",
     "text": [
      "['15' '16' '35' '36' '38' '39' '44' '45']\n"
     ]
    }
   ],
   "source": [
    "print (np.sort(graph.nodes()))"
   ]
  },
  {
   "cell_type": "code",
   "execution_count": 43,
   "metadata": {
    "collapsed": true
   },
   "outputs": [],
   "source": [
    "pG.compute_weighted_avg_paths('45')"
   ]
  },
  {
   "cell_type": "code",
   "execution_count": 44,
   "metadata": {
    "collapsed": true
   },
   "outputs": [],
   "source": [
    "ordered_keys = ['15', '16', '35', '36', '38', '39', '44', '45']"
   ]
  },
  {
   "cell_type": "code",
   "execution_count": 45,
   "metadata": {
    "collapsed": true
   },
   "outputs": [],
   "source": [
    "pG.format_free_energies(merge_BM=True,intermed_ID='INT', compound_order=ordered_keys)"
   ]
  },
  {
   "cell_type": "code",
   "execution_count": 46,
   "metadata": {
    "collapsed": true
   },
   "outputs": [],
   "source": [
    "stage2_DDG = pG.freeEnergyInKcal"
   ]
  },
  {
   "cell_type": "code",
   "execution_count": 47,
   "metadata": {},
   "outputs": [
    {
     "data": {
      "text/plain": [
       "[{'15': 0.99021074432952461, 'error': 0.94078350675320288},\n",
       " {'16': 1.3064725300857576, 'error': 0.93834653242588983},\n",
       " {'35': -0.52694058529565058, 'error': 0.99167177361181913},\n",
       " {'36': -1.0287133857959143, 'error': 0.990826866267006},\n",
       " {'38': 0.35723006195877077, 'error': 0.96655085309383815},\n",
       " {'39': 0.4231395633938852, 'error': 0.99166188192258742},\n",
       " {'44': 1.8442195169923161, 'error': 0.45875100948111702},\n",
       " {'45': -0.0, 'error': 0.0}]"
      ]
     },
     "execution_count": 47,
     "metadata": {},
     "output_type": "execute_result"
    }
   ],
   "source": [
    "stage2_DDG"
   ]
  },
  {
   "cell_type": "code",
   "execution_count": 48,
   "metadata": {
    "collapsed": true
   },
   "outputs": [],
   "source": [
    "experiments = ExperimentalData()"
   ]
  },
  {
   "cell_type": "code",
   "execution_count": 49,
   "metadata": {
    "collapsed": true
   },
   "outputs": [],
   "source": [
    "experiments.compute_DDG_from_IC50s('IC_50s.csv','45')"
   ]
  },
  {
   "cell_type": "code",
   "execution_count": 50,
   "metadata": {
    "collapsed": true
   },
   "outputs": [],
   "source": [
    "exp_list = experiments.freeEnergiesInKcal"
   ]
  },
  {
   "cell_type": "code",
   "execution_count": 51,
   "metadata": {},
   "outputs": [
    {
     "name": "stdout",
     "output_type": "stream",
     "text": [
      "[{'15': -1.3727119612189949, 'error': 0.41322747573364904}, {'error': 0.41322747573364904, '16': -1.2640189176651957}, {'35': -3.0499583546178397, 'error': 0.41322747573364904}, {'36': -3.2916809321896854, 'error': 0.41322747573364904}, {'38': -1.0925140195033931, 'error': 0.41322747573364904}, {'39': -0.8030730828723609, 'error': 0.41322747573364904}, {'44': -0.13302953401804746, 'error': 0.41322747573364904}, {'45': 0.0, 'error': 0.41322747573364904}]\n"
     ]
    }
   ],
   "source": [
    "print exp_list"
   ]
  },
  {
   "cell_type": "code",
   "execution_count": 52,
   "metadata": {
    "collapsed": true
   },
   "outputs": [],
   "source": [
    "pG.write_free_energies(stage2_DDG,'DDG.csv')\n",
    "pG.write_free_energies(exp_list,'DDG_exp.csv')"
   ]
  },
  {
   "cell_type": "markdown",
   "metadata": {},
   "source": [
    "## Statistics"
   ]
  },
  {
   "cell_type": "code",
   "execution_count": 53,
   "metadata": {
    "collapsed": true
   },
   "outputs": [],
   "source": [
    "from networkanalysis.stats import *"
   ]
  },
  {
   "cell_type": "code",
   "execution_count": 54,
   "metadata": {
    "collapsed": true
   },
   "outputs": [],
   "source": [
    "stats = freeEnergyStats()\n",
    "stats.generate_statistics(stage2_DDG, exp_list, repeats=10000)"
   ]
  },
  {
   "cell_type": "code",
   "execution_count": 55,
   "metadata": {
    "scrolled": true
   },
   "outputs": [
    {
     "name": "stdout",
     "output_type": "stream",
     "text": [
      "Experimental versus calculated statistics\n",
      "R : 0.45 < 0.52 < 0.63\n",
      "MUE: 1.68 < 1.82 < 1.95\n",
      "R^2: 0.21 < 0.30 < 0.39\n"
     ]
    }
   ],
   "source": [
    "print \"Experimental versus calculated statistics\"\n",
    "print \"R : %.2f < %.2f < %.2f\" %(stats.R_error[0],stats.R,stats.R_error[1])\n",
    "print \"MUE: %.2f < %.2f < %.2f\" %(stats.mue_error[0],stats.mue,stats.mue_error[1])\n",
    "print \"R^2: %.2f < %.2f < %.2f\" %(stats.R2_error[0],stats.R2,stats.R2_error[1])"
   ]
  },
  {
   "cell_type": "code",
   "execution_count": 56,
   "metadata": {
    "collapsed": true
   },
   "outputs": [],
   "source": [
    "stats = freeEnergyStats()\n",
    "stats.generate_statistics(stage2_DDG, stage2_DDG, repeats=10000)"
   ]
  },
  {
   "cell_type": "code",
   "execution_count": 57,
   "metadata": {
    "scrolled": true
   },
   "outputs": [
    {
     "name": "stdout",
     "output_type": "stream",
     "text": [
      "Calculated versus calculated statistics\n",
      "R : 0.72 < 0.76 < 0.85\n",
      "MUE: 0.53 < 0.62 < 0.70\n",
      "R^2: 0.52 < 0.60 < 0.72\n"
     ]
    }
   ],
   "source": [
    "print \"Calculated versus calculated statistics\"\n",
    "print \"R : %.2f < %.2f < %.2f\" %(stats.R_error[0],stats.R,stats.R_error[1])\n",
    "print \"MUE: %.2f < %.2f < %.2f\" %(stats.mue_error[0],stats.mue,stats.mue_error[1])\n",
    "print \"R^2: %.2f < %.2f < %.2f\" %(stats.R2_error[0],stats.R2,stats.R2_error[1])"
   ]
  },
  {
   "cell_type": "code",
   "execution_count": 58,
   "metadata": {
    "collapsed": true
   },
   "outputs": [],
   "source": [
    "stats = freeEnergyStats()\n",
    "stats.generate_statistics(exp_list, exp_list, repeats=10000)"
   ]
  },
  {
   "cell_type": "code",
   "execution_count": 59,
   "metadata": {
    "scrolled": true
   },
   "outputs": [
    {
     "name": "stdout",
     "output_type": "stream",
     "text": [
      "Experimental versus experimental statistics\n",
      "R : 0.95 < 0.95 < 0.97\n",
      "MUE: 0.28 < 0.33 < 0.37\n",
      "R^2: 0.89 < 0.91 < 0.94\n"
     ]
    }
   ],
   "source": [
    "print \"Experimental versus experimental statistics\"\n",
    "print \"R : %.2f < %.2f < %.2f\" %(stats.R_error[0],stats.R,stats.R_error[1])\n",
    "print \"MUE: %.2f < %.2f < %.2f\" %(stats.mue_error[0],stats.mue,stats.mue_error[1])\n",
    "print \"R^2: %.2f < %.2f < %.2f\" %(stats.R2_error[0],stats.R2,stats.R2_error[1])"
   ]
  },
  {
   "cell_type": "markdown",
   "metadata": {},
   "source": [
    "## Plotting"
   ]
  },
  {
   "cell_type": "code",
   "execution_count": 60,
   "metadata": {
    "collapsed": true
   },
   "outputs": [],
   "source": [
    "stats = freeEnergyStats()\n",
    "stats.generate_statistics(stage2_DDG, exp_list, repeats=10000)"
   ]
  },
  {
   "cell_type": "code",
   "execution_count": 61,
   "metadata": {
    "collapsed": true
   },
   "outputs": [],
   "source": [
    "from networkanalysis.plotting import *"
   ]
  },
  {
   "cell_type": "code",
   "execution_count": 62,
   "metadata": {
    "collapsed": true
   },
   "outputs": [],
   "source": [
    "plot = FreeEnergyPlotter(exp_list,stage2_DDG,compound_list=ordered_keys)"
   ]
  },
  {
   "cell_type": "code",
   "execution_count": 63,
   "metadata": {},
   "outputs": [
    {
     "data": {
      "image/png": "[encoded data removed]",
      "text/plain": [
       "<matplotlib.figure.Figure at 0x1197eb350>"
      ]
     },
     "metadata": {},
     "output_type": "display_data"
    }
   ],
   "source": [
    "plot.plot_scatter_plot()"
   ]
  },
  {
   "cell_type": "code",
   "execution_count": 64,
   "metadata": {},
   "outputs": [
    {
     "data": {
      "text/plain": [
       "(<matplotlib.axes._subplots.AxesSubplot at 0x119124950>,\n",
       " <matplotlib.figure.Figure at 0x1197ebd10>)"
      ]
     },
     "execution_count": 64,
     "metadata": {},
     "output_type": "execute_result"
    },
    {
     "data": {
      "image/png": "[encoded data removed]",
      "text/plain": [
       "<matplotlib.figure.Figure at 0x1197ebd10>"
      ]
     },
     "metadata": {},
     "output_type": "display_data"
    }
   ],
   "source": [
    "plot.plot_bar_plot()"
   ]
  },
  {
   "cell_type": "code",
   "execution_count": 65,
   "metadata": {},
   "outputs": [
    {
     "data": {
      "text/plain": [
       "LinregressResult(slope=0.54570112943838478, intercept=1.171517946910019, rvalue=0.69798005693780762, pvalue=0.054214318129863881, stderr=0.22857057286451082)"
      ]
     },
     "execution_count": 65,
     "metadata": {},
     "output_type": "execute_result"
    }
   ],
   "source": [
    "scipy.stats.linregress(stats.data_exp,np.array(stats.data_comp)[:,0])"
   ]
  },
  {
   "cell_type": "markdown",
   "metadata": {},
   "source": [
    "## Perturbation of experimental and computed results"
   ]
  },
  {
   "cell_type": "code",
   "execution_count": 66,
   "metadata": {
    "collapsed": true
   },
   "outputs": [],
   "source": [
    "def generate_perturbation(exp_ddg):\n",
    "    new_exp_dic = []\n",
    "    for dic in exp_ddg:\n",
    "        keys = dic.keys()\n",
    "        if keys[0]=='error':\n",
    "            err = dic[keys[0]]\n",
    "            val = dic[keys[1]]\n",
    "            compound = keys[1]\n",
    "        else:\n",
    "            err = dic[keys[1]]\n",
    "            val = dic[keys[0]]\n",
    "            compound = keys[0]\n",
    "        if err !=0.0:\n",
    "            new_val = np.random.normal(val, err)\n",
    "        else:\n",
    "            new_val = val\n",
    "        new_exp_dic.append({'error':err, compound : new_val})\n",
    "    return new_exp_dic"
   ]
  },
  {
   "cell_type": "code",
   "execution_count": 67,
   "metadata": {
    "collapsed": true
   },
   "outputs": [],
   "source": [
    "def bootstrap_compounds(c_list, exp_data, sim_data):\n",
    "    R = []\n",
    "    mue = []\n",
    "    rmsd = []\n",
    "    for x in range(1000):\n",
    "        indeces = np.random.randint(len(c_list), size=len(c_list))\n",
    "        new_exp_list = []\n",
    "        new_comp_list  = []\n",
    "        for i in indeces:\n",
    "            new_exp_list.append(exp_data[i])\n",
    "            new_comp_list.append(sim_data[i])\n",
    "\n",
    "        #exp_data = generate_new_exp_data(exp_data)\n",
    "        new_exp_list = convert_to_array(new_exp_list)\n",
    "        new_comp_list = convert_to_array(new_comp_list)\n",
    "        R.append(scipy.stats.pearsonr(new_exp_list[:,0],new_comp_list[:,0])[0])\n",
    "        rmsd.append(compute_rmsd(new_comp_list[:,0],new_exp_list[:,0]))\n",
    "        #mue.append(calculate_mue(new_exp_list,new_comp_list[:,0]))\n",
    "    return R, mue, rmsd"
   ]
  },
  {
   "cell_type": "code",
   "execution_count": 68,
   "metadata": {
    "collapsed": true
   },
   "outputs": [],
   "source": [
    "def convert_to_array(dic_list):\n",
    "    new_list = []\n",
    "    for item in dic_list:\n",
    "        keys = item.keys()\n",
    "        if keys[0] == 'error':\n",
    "            new_list.append(np.array([item[keys[1]], item[keys[0]]]))\n",
    "        else:\n",
    "            new_list.append(np.array([item[keys[0]], item[keys[1]]]))\n",
    "    return np.array(new_list)"
   ]
  },
  {
   "cell_type": "code",
   "execution_count": 69,
   "metadata": {
    "collapsed": true
   },
   "outputs": [],
   "source": [
    "def compute_rmsd(estimate, value):\n",
    "    deviation = sqrt(np.sum((estimate - value)**2)/len(perturb_exp_ddg))\n",
    "    return deviation"
   ]
  },
  {
   "cell_type": "code",
   "execution_count": 70,
   "metadata": {},
   "outputs": [],
   "source": [
    "mean_R = []\n",
    "std_R = []\n",
    "mean_mue = []\n",
    "std_mue = []\n",
    "mean_rmsd = []\n",
    "std_rmsd = []\n",
    "for i in xrange(100):\n",
    "    perturb_exp_ddg = generate_perturbation(exp_list)\n",
    "    R, mue, rmsd = bootstrap_compounds(ordered_keys, exp_list, perturb_exp_ddg)\n",
    "    mean_R.append(mean(R))\n",
    "    std_R.append(std(R))\n",
    "    std_mue.append(std(mue))\n",
    "    mean_mue.append(mean(mue))\n",
    "    std_rmsd.append(std(rmsd))\n",
    "    mean_rmsd.append(mean(rmsd))"
   ]
  },
  {
   "cell_type": "code",
   "execution_count": 71,
   "metadata": {},
   "outputs": [
    {
     "name": "stdout",
     "output_type": "stream",
     "text": [
      "R is: 0.940311 ± 0.038043 \n",
      "rmsd is: 0.400818 ± 0.033813 \n"
     ]
    }
   ],
   "source": [
    "print \"R is: %f ± %f \" %( np.mean(mean_R), np.std(std_R))\n",
    "print \"rmsd is: %f ± %f \" %( np.mean(mean_rmsd), np.std(std_rmsd))"
   ]
  },
  {
   "cell_type": "code",
   "execution_count": null,
   "metadata": {
    "collapsed": true
   },
   "outputs": [],
   "source": []
  }
 ],
 "metadata": {
  "anaconda-cloud": {},
  "kernelspec": {
   "display_name": "Python 2",
   "language": "python",
   "name": "python2"
  },
  "language_info": {
   "codemirror_mode": {
    "name": "ipython",
    "version": 2
   },
   "file_extension": ".py",
   "mimetype": "text/x-python",
   "name": "python",
   "nbconvert_exporter": "python",
   "pygments_lexer": "ipython2",
   "version": "2.7.13"
  }
 },
 "nbformat": 4,
 "nbformat_minor": 1
}
