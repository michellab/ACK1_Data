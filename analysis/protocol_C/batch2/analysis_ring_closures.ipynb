{
 "cells": [
  {
   "cell_type": "code",
   "execution_count": 1,
   "metadata": {
    "collapsed": false
   },
   "outputs": [
    {
     "name": "stdout",
     "output_type": "stream",
     "text": [
      "Populating the interactive namespace from numpy and matplotlib\n"
     ]
    },
    {
     "name": "stderr",
     "output_type": "stream",
     "text": [
      "/Users/admin/miniconda3/lib/python2.7/site-packages/IPython/html.py:14: ShimWarning: The `IPython.html` package has been deprecated. You should import from `notebook` instead. `IPython.html.widgets` has moved to `ipywidgets`.\n",
      "  \"`IPython.html.widgets` has moved to `ipywidgets`.\", ShimWarning)\n"
     ]
    }
   ],
   "source": [
    "%pylab inline\n",
    "import networkx as nx # does network analysis\n",
    "matplotlib.rcParams.update({'font.size': 20})\n",
    "#unimportant\n",
    "import sys\n",
    "import scipy.stats\n",
    "sys.path.append('/Volumes/Edimburgo/ack1/batch0001/analysis/ipython/best_poses/dry') #adjust path to where you are working\n",
    "import helper_scripts_analysis as helper\n",
    "import seaborn as sns\n",
    "sns.set_style(\"ticks\")\n",
    "sns.set_context(\"notebook\", font_scale = 2)"
   ]
  },
  {
   "cell_type": "code",
   "execution_count": 2,
   "metadata": {
    "collapsed": false
   },
   "outputs": [],
   "source": [
    "#computational data"
   ]
  },
  {
   "cell_type": "code",
   "execution_count": 3,
   "metadata": {
    "collapsed": false
   },
   "outputs": [
    {
     "name": "stdout",
     "output_type": "stream",
     "text": [
      "-0.9\n",
      "0.2\n",
      "-0.6\n",
      "-0.1\n",
      "-0.32\n",
      "0.1\n",
      "2.0\n",
      "1.45\n",
      "-0.5\n",
      "Free energy: 39 38 -0.20\n",
      "Free energy: 39 35 -0.90\n",
      "Free energy: 38 39 0.20\n",
      "Free energy: 38 15 0.60\n",
      "Free energy: 38 36 -1.45\n",
      "Free energy: 15 38 -0.60\n",
      "Free energy: 15 16 0.32\n",
      "Free energy: 16 44 -0.10\n",
      "Free energy: 16 45 -0.10\n",
      "Free energy: 16 15 -0.32\n",
      "Free energy: 44 45 -2.00\n",
      "Free energy: 44 16 0.10\n",
      "Free energy: 45 44 2.00\n",
      "Free energy: 45 16 0.10\n",
      "Free energy: 36 38 1.45\n",
      "Free energy: 36 35 0.50\n",
      "Free energy: 35 39 0.90\n",
      "Free energy: 35 36 -0.50\n",
      "DDG for path ['45', '16', '15', '38', '39'] is -0.620000 +/- 1.223274 kcal/mol\n",
      "DDG for path ['45', '44', '16', '15', '38', '39'] is 1.380000 +/- 0.675574 kcal/mol\n",
      "DDG for path ['45', '16', '15', '38', '36', '35', '39'] is -0.870000 +/- 1.230650 kcal/mol\n",
      "DDG for path ['45', '44', '16', '15', '38', '36', '35', '39'] is 1.130000 +/- 0.688840 kcal/mol\n",
      "Average sum for path to 39 is 0.255000 \n",
      "================\n",
      "DDG for path ['45', '16', '15', '38'] is -0.820000 +/- 1.206814 kcal/mol\n",
      "DDG for path ['45', '44', '16', '15', '38'] is 1.180000 +/- 0.645291 kcal/mol\n",
      "Average sum for path to 38 is 0.180000 \n",
      "================\n",
      "DDG for path ['45', '16', '15'] is -0.220000 +/- 1.202664 kcal/mol\n",
      "DDG for path ['45', '44', '16', '15'] is 1.780000 +/- 0.637495 kcal/mol\n",
      "Average sum for path to 15 is 0.780000 \n",
      "================\n",
      "DDG for path ['45', '16'] is 0.100000 +/- 1.200000 kcal/mol\n",
      "DDG for path ['45', '44', '16'] is 2.100000 +/- 0.632456 kcal/mol\n",
      "Average sum for path to 16 is 1.100000 \n",
      "================\n",
      "DDG for path ['45', '44'] is 2.000000 +/- 0.200000 kcal/mol\n",
      "DDG for path ['45', '16', '44'] is 0.000000 +/- 1.341641 kcal/mol\n",
      "Average sum for path to 44 is 1.000000 \n",
      "================\n",
      "DDG for path ['45'] is 0.000000 +/- 0.000000 kcal/mol\n",
      "Average sum for path to 45 is 0.000000 \n",
      "================\n",
      "DDG for path ['45', '16', '15', '38', '36'] is -2.270000 +/- 1.210165 kcal/mol\n",
      "DDG for path ['45', '44', '16', '15', '38', '36'] is -0.270000 +/- 0.651537 kcal/mol\n",
      "DDG for path ['45', '16', '15', '38', '39', '35', '36'] is -2.020000 +/- 1.243543 kcal/mol\n",
      "DDG for path ['45', '44', '16', '15', '38', '39', '35', '36'] is -0.020000 +/- 0.711618 kcal/mol\n",
      "Average sum for path to 36 is -1.145000 \n",
      "================\n",
      "DDG for path ['45', '16', '15', '38', '39', '35'] is -1.520000 +/- 1.227355 kcal/mol\n",
      "DDG for path ['45', '16', '15', '38', '36', '35'] is -1.770000 +/- 1.226581 kcal/mol\n",
      "DDG for path ['45', '44', '16', '15', '38', '39', '35'] is 0.480000 +/- 0.682935 kcal/mol\n",
      "DDG for path ['45', '44', '16', '15', '38', '36', '35'] is 0.230000 +/- 0.681542 kcal/mol\n",
      "Average sum for path to 35 is -0.645000 \n",
      "================\n",
      "DDG for cycle ['39', '35', '36', '38'] is 0.25 ± 0.31 kcal/mol\n",
      "DDG for cycle ['39', '38', '36', '35'] is -0.25 ± 0.31 kcal/mol\n",
      "DDG for cycle ['44', '16', '45'] is 2.00 ± 1.36 kcal/mol\n",
      "DDG for cycle ['44', '45', '16'] is -2.00 ± 1.36 kcal/mol\n"
     ]
    }
   ],
   "source": [
    "sim_data = ['mbar_ring_closure.csv']\n",
    "comp_graph = nx.read_edgelist(\n",
    "    sim_data[0], delimiter=',', create_using=nx.DiGraph(),nodetype=str, data=(('weight',float),('error',float)))\n",
    "comp_graph = helper.symmetrize_graph(comp_graph)\n",
    "for e in comp_graph.edges():\n",
    "    print 'Free energy: %s %s %.2f' %(e[0], e[1],comp_graph.get_edge_data(e[0], e[1])['weight'])\n",
    "pathaverage_comp = helper.get_average_paths(comp_graph, '45')   \n",
    "helper.get_cycles(comp_graph)"
   ]
  },
  {
   "cell_type": "code",
   "execution_count": null,
   "metadata": {
    "collapsed": true
   },
   "outputs": [],
   "source": []
  },
  {
   "cell_type": "code",
   "execution_count": null,
   "metadata": {
    "collapsed": true
   },
   "outputs": [],
   "source": []
  }
 ],
 "metadata": {
  "kernelspec": {
   "display_name": "Python 2",
   "language": "python",
   "name": "python2"
  },
  "language_info": {
   "codemirror_mode": {
    "name": "ipython",
    "version": 2
   },
   "file_extension": ".py",
   "mimetype": "text/x-python",
   "name": "python",
   "nbconvert_exporter": "python",
   "pygments_lexer": "ipython2",
   "version": "2.7.12"
  }
 },
 "nbformat": 4,
 "nbformat_minor": 0
}
