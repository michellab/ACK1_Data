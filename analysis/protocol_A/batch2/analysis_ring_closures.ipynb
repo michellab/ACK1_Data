{
 "cells": [
  {
   "cell_type": "code",
   "execution_count": 1,
   "metadata": {
    "collapsed": false
   },
   "outputs": [
    {
     "name": "stdout",
     "output_type": "stream",
     "text": [
      "Populating the interactive namespace from numpy and matplotlib\n"
     ]
    },
    {
     "name": "stderr",
     "output_type": "stream",
     "text": [
      "/Users/admin/miniconda3/lib/python2.7/site-packages/IPython/html.py:14: ShimWarning: The `IPython.html` package has been deprecated. You should import from `notebook` instead. `IPython.html.widgets` has moved to `ipywidgets`.\n",
      "  \"`IPython.html.widgets` has moved to `ipywidgets`.\", ShimWarning)\n"
     ]
    }
   ],
   "source": [
    "%pylab inline\n",
    "import networkx as nx # does network analysis\n",
    "matplotlib.rcParams.update({'font.size': 20})\n",
    "#unimportant\n",
    "import sys\n",
    "import scipy.stats\n",
    "sys.path.append('/Volumes/Edimburgo/ack1/batch0001/analysis/ipython/best_poses/dry') #adjust path to where you are working\n",
    "import helper_scripts_analysis as helper\n",
    "import seaborn as sns\n",
    "sns.set_style(\"ticks\")\n",
    "sns.set_context(\"notebook\", font_scale = 2)"
   ]
  },
  {
   "cell_type": "code",
   "execution_count": 2,
   "metadata": {
    "collapsed": false
   },
   "outputs": [],
   "source": [
    "#computational data"
   ]
  },
  {
   "cell_type": "code",
   "execution_count": 3,
   "metadata": {
    "collapsed": false
   },
   "outputs": [
    {
     "name": "stdout",
     "output_type": "stream",
     "text": [
      "-0.1\n",
      "0.0\n",
      "-0.6\n",
      "0.5\n",
      "-0.5\n",
      "-0.6\n",
      "1.8\n",
      "1.3\n",
      "-0.65\n",
      "Free energy: 39 38 -0.00\n",
      "Free energy: 39 35 -0.10\n",
      "Free energy: 38 39 0.00\n",
      "Free energy: 38 15 0.60\n",
      "Free energy: 38 36 -1.30\n",
      "Free energy: 15 38 -0.60\n",
      "Free energy: 15 16 0.50\n",
      "Free energy: 16 44 0.60\n",
      "Free energy: 16 45 0.50\n",
      "Free energy: 16 15 -0.50\n",
      "Free energy: 44 45 -1.80\n",
      "Free energy: 44 16 -0.60\n",
      "Free energy: 45 44 1.80\n",
      "Free energy: 45 16 -0.50\n",
      "Free energy: 36 38 1.30\n",
      "Free energy: 36 35 0.65\n",
      "Free energy: 35 39 0.10\n",
      "Free energy: 35 36 -0.65\n",
      "DDG for path ['45', '16', '15', '38', '39'] is -1.600000 +/- 1.100000 kcal/mol\n",
      "DDG for path ['45', '44', '16', '15', '38', '39'] is 0.100000 +/- 0.685565 kcal/mol\n",
      "DDG for path ['45', '16', '15', '38', '36', '35', '39'] is -2.150000 +/- 1.050524 kcal/mol\n",
      "DDG for path ['45', '44', '16', '15', '38', '36', '35', '39'] is -0.450000 +/- 0.602993 kcal/mol\n",
      "Average sum for path to 39 is -1.025000 \n",
      "================\n",
      "DDG for path ['45', '16', '15', '38'] is -1.600000 +/- 1.024695 kcal/mol\n",
      "DDG for path ['45', '44', '16', '15', '38'] is 0.100000 +/- 0.556776 kcal/mol\n",
      "Average sum for path to 38 is -0.750000 \n",
      "================\n",
      "DDG for path ['45', '16', '15'] is -1.000000 +/- 1.004988 kcal/mol\n",
      "DDG for path ['45', '44', '16', '15'] is 0.700000 +/- 0.519615 kcal/mol\n",
      "Average sum for path to 15 is -0.150000 \n",
      "================\n",
      "DDG for path ['45', '16'] is -0.500000 +/- 1.000000 kcal/mol\n",
      "DDG for path ['45', '44', '16'] is 1.200000 +/- 0.509902 kcal/mol\n",
      "Average sum for path to 16 is 0.350000 \n",
      "================\n",
      "DDG for path ['45', '44'] is 1.800000 +/- 0.100000 kcal/mol\n",
      "DDG for path ['45', '16', '44'] is 0.100000 +/- 1.118034 kcal/mol\n",
      "Average sum for path to 44 is 0.950000 \n",
      "================\n",
      "DDG for path ['45'] is 0.000000 +/- 0.000000 kcal/mol\n",
      "Average sum for path to 45 is 0.000000 \n",
      "================\n",
      "DDG for path ['45', '16', '15', '38', '36'] is -2.900000 +/- 1.029563 kcal/mol\n",
      "DDG for path ['45', '44', '16', '15', '38', '36'] is -1.200000 +/- 0.565685 kcal/mol\n",
      "DDG for path ['45', '16', '15', '38', '39', '35', '36'] is -2.350000 +/- 1.119643 kcal/mol\n",
      "DDG for path ['45', '44', '16', '15', '38', '39', '35', '36'] is -0.650000 +/- 0.716659 kcal/mol\n",
      "Average sum for path to 36 is -1.775000 \n",
      "================\n",
      "DDG for path ['45', '16', '15', '38', '39', '35'] is -1.700000 +/- 1.118034 kcal/mol\n",
      "DDG for path ['45', '16', '15', '38', '36', '35'] is -2.250000 +/- 1.031310 kcal/mol\n",
      "DDG for path ['45', '44', '16', '15', '38', '39', '35'] is 0.000000 +/- 0.714143 kcal/mol\n",
      "DDG for path ['45', '44', '16', '15', '38', '36', '35'] is -0.550000 +/- 0.568859 kcal/mol\n",
      "Average sum for path to 35 is -1.125000 \n",
      "================\n",
      "DDG for cycle ['39', '35', '36', '38'] is 0.55 ± 0.46 kcal/mol\n",
      "DDG for cycle ['39', '38', '36', '35'] is -0.55 ± 0.46 kcal/mol\n",
      "DDG for cycle ['44', '16', '45'] is 1.70 ± 1.12 kcal/mol\n",
      "DDG for cycle ['44', '45', '16'] is -1.70 ± 1.12 kcal/mol\n"
     ]
    }
   ],
   "source": [
    "sim_data = ['mbar_ring_closure.csv']\n",
    "comp_graph = nx.read_edgelist(\n",
    "    sim_data[0], delimiter=',', create_using=nx.DiGraph(),nodetype=str, data=(('weight',float),('error',float)))\n",
    "comp_graph = helper.symmetrize_graph(comp_graph)\n",
    "for e in comp_graph.edges():\n",
    "    print 'Free energy: %s %s %.2f' %(e[0], e[1],comp_graph.get_edge_data(e[0], e[1])['weight'])\n",
    "pathaverage_comp = helper.get_average_paths(comp_graph, '45')   \n",
    "helper.get_cycles(comp_graph)"
   ]
  },
  {
   "cell_type": "code",
   "execution_count": null,
   "metadata": {
    "collapsed": true
   },
   "outputs": [],
   "source": []
  },
  {
   "cell_type": "code",
   "execution_count": null,
   "metadata": {
    "collapsed": true
   },
   "outputs": [],
   "source": []
  }
 ],
 "metadata": {
  "kernelspec": {
   "display_name": "Python 2",
   "language": "python",
   "name": "python2"
  },
  "language_info": {
   "codemirror_mode": {
    "name": "ipython",
    "version": 2
   },
   "file_extension": ".py",
   "mimetype": "text/x-python",
   "name": "python",
   "nbconvert_exporter": "python",
   "pygments_lexer": "ipython2",
   "version": "2.7.12"
  }
 },
 "nbformat": 4,
 "nbformat_minor": 0
}
